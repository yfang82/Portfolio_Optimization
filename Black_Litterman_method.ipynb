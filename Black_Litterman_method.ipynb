{
 "cells": [
  {
   "cell_type": "code",
   "execution_count": 15,
   "metadata": {},
   "outputs": [],
   "source": [
    "import preprocessing\n",
    "import bl\n",
    "import numpy as np\n",
    "import calc_weights\n",
    "import pandas as pd\n",
    "import efficient_frontier\n"
   ]
  },
  {
   "cell_type": "markdown",
   "metadata": {},
   "source": [
    "# Data Preparation\n",
    "Market capitalization: Scrapped from yahoo finance \\\n",
    "Excessive return: Calculated from yahoo finance historical data--Adjusted Close (Use one year data from 2023-07-10 to 2024-07-05). Included eight stocks: 'MSFT','NVDA','AAPL','AMZN','META','GOOG','AVGO','LLY'. Used S&P500 as the market return.\\\n",
    "Cov: Calculated the covariance matrix from Excessive return"
   ]
  },
  {
   "cell_type": "code",
   "execution_count": 2,
   "metadata": {},
   "outputs": [],
   "source": [
    "df_marketcap = preprocessing.market_cap_df()\n",
    "df_ret = preprocessing.exreturn_adclose_df()\n",
    "cov = np.array(preprocessing.get_cov_matrix(df_ret))\n"
   ]
  },
  {
   "cell_type": "code",
   "execution_count": 4,
   "metadata": {},
   "outputs": [
    {
     "data": {
      "text/html": [
       "<div>\n",
       "<style scoped>\n",
       "    .dataframe tbody tr th:only-of-type {\n",
       "        vertical-align: middle;\n",
       "    }\n",
       "\n",
       "    .dataframe tbody tr th {\n",
       "        vertical-align: top;\n",
       "    }\n",
       "\n",
       "    .dataframe thead th {\n",
       "        text-align: right;\n",
       "    }\n",
       "</style>\n",
       "<table border=\"1\" class=\"dataframe\">\n",
       "  <thead>\n",
       "    <tr style=\"text-align: right;\">\n",
       "      <th></th>\n",
       "      <th>names</th>\n",
       "      <th>market_cap</th>\n",
       "    </tr>\n",
       "  </thead>\n",
       "  <tbody>\n",
       "    <tr>\n",
       "      <th>0</th>\n",
       "      <td>MSFT</td>\n",
       "      <td>3.180000</td>\n",
       "    </tr>\n",
       "    <tr>\n",
       "      <th>1</th>\n",
       "      <td>NVDA</td>\n",
       "      <td>2.959000</td>\n",
       "    </tr>\n",
       "    <tr>\n",
       "      <th>2</th>\n",
       "      <td>AAPL</td>\n",
       "      <td>3.134000</td>\n",
       "    </tr>\n",
       "    <tr>\n",
       "      <th>3</th>\n",
       "      <td>AMZN</td>\n",
       "      <td>1.947000</td>\n",
       "    </tr>\n",
       "    <tr>\n",
       "      <th>4</th>\n",
       "      <td>META</td>\n",
       "      <td>1.270000</td>\n",
       "    </tr>\n",
       "    <tr>\n",
       "      <th>5</th>\n",
       "      <td>GOOG</td>\n",
       "      <td>2.159000</td>\n",
       "    </tr>\n",
       "    <tr>\n",
       "      <th>6</th>\n",
       "      <td>AVGO</td>\n",
       "      <td>0.667544</td>\n",
       "    </tr>\n",
       "    <tr>\n",
       "      <th>7</th>\n",
       "      <td>LLY</td>\n",
       "      <td>0.817348</td>\n",
       "    </tr>\n",
       "  </tbody>\n",
       "</table>\n",
       "</div>"
      ],
      "text/plain": [
       "  names  market_cap\n",
       "0  MSFT    3.180000\n",
       "1  NVDA    2.959000\n",
       "2  AAPL    3.134000\n",
       "3  AMZN    1.947000\n",
       "4  META    1.270000\n",
       "5  GOOG    2.159000\n",
       "6  AVGO    0.667544\n",
       "7   LLY    0.817348"
      ]
     },
     "execution_count": 4,
     "metadata": {},
     "output_type": "execute_result"
    }
   ],
   "source": [
    "# market cap measured in T (trillion)\n",
    "df_marketcap"
   ]
  },
  {
   "cell_type": "code",
   "execution_count": 5,
   "metadata": {},
   "outputs": [
    {
     "data": {
      "text/html": [
       "<div>\n",
       "<style scoped>\n",
       "    .dataframe tbody tr th:only-of-type {\n",
       "        vertical-align: middle;\n",
       "    }\n",
       "\n",
       "    .dataframe tbody tr th {\n",
       "        vertical-align: top;\n",
       "    }\n",
       "\n",
       "    .dataframe thead th {\n",
       "        text-align: right;\n",
       "    }\n",
       "</style>\n",
       "<table border=\"1\" class=\"dataframe\">\n",
       "  <thead>\n",
       "    <tr style=\"text-align: right;\">\n",
       "      <th></th>\n",
       "      <th>MSFT</th>\n",
       "      <th>NVDA</th>\n",
       "      <th>AAPL</th>\n",
       "      <th>AMZN</th>\n",
       "      <th>META</th>\n",
       "      <th>GOOG</th>\n",
       "      <th>AVGO</th>\n",
       "      <th>LLY</th>\n",
       "    </tr>\n",
       "    <tr>\n",
       "      <th>Date</th>\n",
       "      <th></th>\n",
       "      <th></th>\n",
       "      <th></th>\n",
       "      <th></th>\n",
       "      <th></th>\n",
       "      <th></th>\n",
       "      <th></th>\n",
       "      <th></th>\n",
       "    </tr>\n",
       "  </thead>\n",
       "  <tbody>\n",
       "    <tr>\n",
       "      <th>2023-07-10</th>\n",
       "      <td>-0.015984</td>\n",
       "      <td>-0.007599</td>\n",
       "      <td>-0.010856</td>\n",
       "      <td>-0.020419</td>\n",
       "      <td>0.012288</td>\n",
       "      <td>-0.027218</td>\n",
       "      <td>0.036587</td>\n",
       "      <td>0.002389</td>\n",
       "    </tr>\n",
       "    <tr>\n",
       "      <th>2023-07-11</th>\n",
       "      <td>0.001929</td>\n",
       "      <td>0.005334</td>\n",
       "      <td>-0.002810</td>\n",
       "      <td>0.012979</td>\n",
       "      <td>0.014247</td>\n",
       "      <td>0.007187</td>\n",
       "      <td>0.004922</td>\n",
       "      <td>-0.030387</td>\n",
       "    </tr>\n",
       "    <tr>\n",
       "      <th>2023-07-12</th>\n",
       "      <td>0.014227</td>\n",
       "      <td>0.035302</td>\n",
       "      <td>0.008985</td>\n",
       "      <td>0.015686</td>\n",
       "      <td>0.037044</td>\n",
       "      <td>0.016226</td>\n",
       "      <td>0.008956</td>\n",
       "      <td>0.002754</td>\n",
       "    </tr>\n",
       "    <tr>\n",
       "      <th>2023-07-13</th>\n",
       "      <td>0.016192</td>\n",
       "      <td>0.047264</td>\n",
       "      <td>0.004057</td>\n",
       "      <td>0.026758</td>\n",
       "      <td>0.013157</td>\n",
       "      <td>0.043555</td>\n",
       "      <td>0.000461</td>\n",
       "      <td>-0.013391</td>\n",
       "    </tr>\n",
       "    <tr>\n",
       "      <th>2023-07-14</th>\n",
       "      <td>0.007529</td>\n",
       "      <td>-0.011049</td>\n",
       "      <td>0.000787</td>\n",
       "      <td>0.002829</td>\n",
       "      <td>-0.014486</td>\n",
       "      <td>0.006969</td>\n",
       "      <td>-0.001999</td>\n",
       "      <td>0.033954</td>\n",
       "    </tr>\n",
       "  </tbody>\n",
       "</table>\n",
       "</div>"
      ],
      "text/plain": [
       "                MSFT      NVDA      AAPL      AMZN      META      GOOG  \\\n",
       "Date                                                                     \n",
       "2023-07-10 -0.015984 -0.007599 -0.010856 -0.020419  0.012288 -0.027218   \n",
       "2023-07-11  0.001929  0.005334 -0.002810  0.012979  0.014247  0.007187   \n",
       "2023-07-12  0.014227  0.035302  0.008985  0.015686  0.037044  0.016226   \n",
       "2023-07-13  0.016192  0.047264  0.004057  0.026758  0.013157  0.043555   \n",
       "2023-07-14  0.007529 -0.011049  0.000787  0.002829 -0.014486  0.006969   \n",
       "\n",
       "                AVGO       LLY  \n",
       "Date                            \n",
       "2023-07-10  0.036587  0.002389  \n",
       "2023-07-11  0.004922 -0.030387  \n",
       "2023-07-12  0.008956  0.002754  \n",
       "2023-07-13  0.000461 -0.013391  \n",
       "2023-07-14 -0.001999  0.033954  "
      ]
     },
     "execution_count": 5,
     "metadata": {},
     "output_type": "execute_result"
    }
   ],
   "source": [
    "df_ret.head()"
   ]
  },
  {
   "cell_type": "markdown",
   "metadata": {},
   "source": [
    "# Calculate market implied return\n",
    "market implied return is calculated by \n",
    "$$\n",
    "\\Pi = \\lambda \\Sigma w_{mkt}\n",
    "$$\n",
    "where $\\lambda$ is the risk aversion coefficient $\\frac{mean(R_{market})-R_{riskfree}}{Var(R_{market})}$, \n",
    "$\\Sigma$ is the Covariance Matrix, and \n",
    "$w_{mkt}$ is the weight by market capitalization\n",
    "\n"
   ]
  },
  {
   "cell_type": "code",
   "execution_count": 10,
   "metadata": {},
   "outputs": [
    {
     "name": "stderr",
     "output_type": "stream",
     "text": [
      "[*********************100%%**********************]  1 of 1 completed\n"
     ]
    },
    {
     "data": {
      "text/plain": [
       "array([0.03212916, 0.0350488 , 0.0317589 , 0.03281159, 0.03338071,\n",
       "       0.03247809, 0.03326951, 0.03117963])"
      ]
     },
     "execution_count": 10,
     "metadata": {},
     "output_type": "execute_result"
    }
   ],
   "source": [
    "delta = preprocessing.get_delta(risk_free_rate=0.03)\n",
    "market_implied_exreturn = bl.market_implied_exreturn(delta,df_marketcap,cov)\n",
    "market_implied_return = bl.get_market_implied_return(market_implied_exreturn, risk_free_rate=0.03)\n",
    "market_implied_return"
   ]
  },
  {
   "cell_type": "markdown",
   "metadata": {},
   "source": [
    "# Incorporate Investor's Prediction\n",
    "In Black-Litterman Model, investor's prediction can be incorporated by providing two matrices P and Q. For example, if I predict stock A will have -0.002 return,stock B will have 0.03 return, and stock C will have 0.01 higher return than stock D, the prediction can be written as:\n",
    "$$\n",
    "P = \\begin{pmatrix}\n",
    "1 & 0 & 0 & 0 \\\\\n",
    "0 & 1 & 0 & 0 \\\\\n",
    "0 & 0 & 1 & -1\n",
    "\\end{pmatrix}\n",
    "$$\n",
    "\n",
    "$$\n",
    "Q = \\begin{pmatrix}\n",
    "-0.002 \\\\\n",
    "0.03 \\\\\n",
    "0.01\n",
    "\\end{pmatrix}\n",
    "$$\n",
    "\n",
    "If some of the stocks in the portfolio don't have a prediction, just add zeros to its corresponding position in P."
   ]
  },
  {
   "cell_type": "code",
   "execution_count": 11,
   "metadata": {},
   "outputs": [
    {
     "data": {
      "text/plain": [
       "(array([[1., 0., 0., 0., 0., 0., 0., 0.],\n",
       "        [0., 1., 0., 0., 0., 0., 0., 0.],\n",
       "        [0., 0., 1., 0., 0., 0., 0., 0.],\n",
       "        [0., 0., 0., 1., 0., 0., 0., 0.],\n",
       "        [0., 0., 0., 0., 1., 0., 0., 0.],\n",
       "        [0., 0., 0., 0., 0., 1., 0., 0.],\n",
       "        [0., 0., 0., 0., 0., 0., 1., 0.],\n",
       "        [0., 0., 0., 0., 0., 0., 0., 1.]]),\n",
       " array([ 2.66317301e-03,  1.43055795e-03, -3.09080058e-03, -1.67676999e-05,\n",
       "         1.24267195e-03, -1.44017112e-03,  5.31023171e-04,  2.17097051e-04]))"
      ]
     },
     "execution_count": 11,
     "metadata": {},
     "output_type": "execute_result"
    }
   ],
   "source": [
    "# generate two samples of P and Q. By default, P is the identity matrix of length n (# of stocks in portfolio)\n",
    "# Q is generated by random.normal(0,0.002,8) to represent investor's prediction of return. In real world, it's usually generated by some prediction models.\n",
    "P, Q = bl.sample_prediction(seed = 10)\n",
    "P, Q"
   ]
  },
  {
   "cell_type": "markdown",
   "metadata": {},
   "source": [
    "# Representing confidence in prediction\n",
    "The model use $\\Omega$ to represents the variance of prediction. It's related to the confidence level of investor's prediction. We can either calculate $\\Omega$ by $\\tau p_{k}\\Sigma p_{k}^T$, or when specified investor's confidence level, by $\\tau\\alpha p_{k}\\Sigma p_{k}^T$, where $\\alpha = \\frac{1-conf}{conf}$."
   ]
  },
  {
   "cell_type": "code",
   "execution_count": 12,
   "metadata": {},
   "outputs": [
    {
     "name": "stdout",
     "output_type": "stream",
     "text": [
      "[[1.01182089e-06 0.00000000e+00 0.00000000e+00 0.00000000e+00\n",
      "  0.00000000e+00 0.00000000e+00 0.00000000e+00 0.00000000e+00]\n",
      " [0.00000000e+00 5.11191539e-06 0.00000000e+00 0.00000000e+00\n",
      "  0.00000000e+00 0.00000000e+00 0.00000000e+00 0.00000000e+00]\n",
      " [0.00000000e+00 0.00000000e+00 5.43155868e-07 0.00000000e+00\n",
      "  0.00000000e+00 0.00000000e+00 0.00000000e+00 0.00000000e+00]\n",
      " [0.00000000e+00 0.00000000e+00 0.00000000e+00 1.93481478e-06\n",
      "  0.00000000e+00 0.00000000e+00 0.00000000e+00 0.00000000e+00]\n",
      " [0.00000000e+00 0.00000000e+00 0.00000000e+00 0.00000000e+00\n",
      "  5.55786346e-06 0.00000000e+00 0.00000000e+00 0.00000000e+00]\n",
      " [0.00000000e+00 0.00000000e+00 0.00000000e+00 0.00000000e+00\n",
      "  0.00000000e+00 1.89391075e-06 0.00000000e+00 0.00000000e+00]\n",
      " [0.00000000e+00 0.00000000e+00 0.00000000e+00 0.00000000e+00\n",
      "  0.00000000e+00 0.00000000e+00 3.52364289e-06 0.00000000e+00]\n",
      " [0.00000000e+00 0.00000000e+00 0.00000000e+00 0.00000000e+00\n",
      "  0.00000000e+00 0.00000000e+00 0.00000000e+00 9.74105120e-07]]\n"
     ]
    }
   ],
   "source": [
    "tau = 0.025\n",
    "# omega = bl.get_default_omega(tau,P,np.array(cov))\n",
    "omega = bl.get_user_omega([0.8,0.8,0.9,0.8,0.7,0.8,0.8,0.9],tau,P,cov)\n",
    "print(omega)"
   ]
  },
  {
   "cell_type": "markdown",
   "metadata": {},
   "source": [
    "# Calculate Expected Return by Black-Litterman Model\n",
    "The formula for expected Return is:\n",
    "$$\n",
    "\n",
    "E[R] = \\left[ (\\tau \\Sigma)^{-1} + P' \\Omega^{-1} P \\right]^{-1} \\left[ (\\tau \\Sigma)^{-1} \\Pi + P' \\Omega^{-1} Q \\right]\n",
    "\n",
    "$$"
   ]
  },
  {
   "cell_type": "code",
   "execution_count": 13,
   "metadata": {},
   "outputs": [
    {
     "name": "stdout",
     "output_type": "stream",
     "text": [
      "[0.03251104 0.03770689 0.00905116 0.0320644  0.03467003 0.02316228\n",
      " 0.03140775 0.03441172]\n"
     ]
    }
   ],
   "source": [
    "bl_ret = bl.calculate_bl_returns(tau,cov,P,omega,market_implied_return,Q)\n",
    "print(bl_ret)\n"
   ]
  },
  {
   "cell_type": "markdown",
   "metadata": {},
   "source": [
    "# Calculate Max Sharpe Ratio Weight and Efficient Frontier of the Portfolio\n"
   ]
  },
  {
   "cell_type": "code",
   "execution_count": 14,
   "metadata": {},
   "outputs": [
    {
     "name": "stdout",
     "output_type": "stream",
     "text": [
      "Optimal Weights: [1.72840664e-01 2.70723203e-01 3.39802513e-16 1.54505586e-16\n",
      " 1.45524477e-01 1.12906104e-16 0.00000000e+00 4.10911656e-01]\n",
      "Maximum Sharpe Ratio: 0.33617260101327556\n"
     ]
    }
   ],
   "source": [
    "optimal_weights, sharpe_rt = calc_weights.weights_max_sharpe(bl_ret,np.array(cov))\n",
    "\n",
    "print(\"Optimal Weights:\", optimal_weights)\n",
    "print(\"Maximum Sharpe Ratio:\", sharpe_rt)"
   ]
  },
  {
   "cell_type": "code",
   "execution_count": 16,
   "metadata": {},
   "outputs": [
    {
     "data": {
      "image/png": "[encoded data removed]",
      "text/plain": [
       "<Figure size 720x432 with 1 Axes>"
      ]
     },
     "metadata": {
      "needs_background": "light"
     },
     "output_type": "display_data"
    }
   ],
   "source": [
    "efficient_frontier.plot_efficient_frontier(bl_ret,cov)"
   ]
  }
 ],
 "metadata": {
  "kernelspec": {
   "display_name": "Python 3",
   "language": "python",
   "name": "python3"
  },
  "language_info": {
   "codemirror_mode": {
    "name": "ipython",
    "version": 3
   },
   "file_extension": ".py",
   "mimetype": "text/x-python",
   "name": "python",
   "nbconvert_exporter": "python",
   "pygments_lexer": "ipython3",
   "version": "3.7.4"
  }
 },
 "nbformat": 4,
 "nbformat_minor": 2
}
